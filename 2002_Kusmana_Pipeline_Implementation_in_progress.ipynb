{
  "nbformat": 4,
  "nbformat_minor": 0,
  "metadata": {
    "colab": {
      "provenance": [],
      "authorship_tag": "ABX9TyN2hEWs/7cjn3fMragQJ1CS",
      "include_colab_link": true
    },
    "kernelspec": {
      "name": "python3",
      "display_name": "Python 3"
    },
    "language_info": {
      "name": "python"
    }
  },
  "cells": [
    {
      "cell_type": "markdown",
      "metadata": {
        "id": "view-in-github",
        "colab_type": "text"
      },
      "source": [
        "<a href=\"https://colab.research.google.com/github/ckusmana21/2002_Final_Project/blob/main/2002_Kusmana_Pipeline_Implementation_in_progress.ipynb\" target=\"_parent\"><img src=\"https://colab.research.google.com/assets/colab-badge.svg\" alt=\"Open In Colab\"/></a>"
      ]
    },
    {
      "cell_type": "code",
      "execution_count": 1,
      "metadata": {
        "colab": {
          "base_uri": "https://localhost:8080/"
        },
        "id": "48KRuKNyLZXr",
        "outputId": "a0c72acc-449b-43a5-aac4-e8c703131772"
      },
      "outputs": [
        {
          "output_type": "stream",
          "name": "stderr",
          "text": [
            "<ipython-input-1-517dc70006fe>:8: DtypeWarning: Columns (19) have mixed types. Specify dtype option on import or set low_memory=False.\n",
            "  sentencing_data = pd.read_csv(file_path2)\n"
          ]
        },
        {
          "output_type": "stream",
          "name": "stdout",
          "text": [
            "   Unnamed: 0  USSCIDN   AGE  AGECAT  CIRCDIST  CITIZEN  CITWHERE  DISTRICT  \\\n",
            "0           1  2492676  34.0     4.0        60      3.0      49.0        67   \n",
            "1           2  2492679  36.0     5.0        89      3.0      49.0        30   \n",
            "2           3  2492680  50.0     6.0        91      1.0     211.0        31   \n",
            "3           4  2492681  41.0     6.0        91      3.0      20.0        31   \n",
            "4           5  2492684  27.0     3.0        91      3.0      20.0        31   \n",
            "\n",
            "   DOBMON   DOBYR  ...  USARMHI  USKIDHI  VULVCTHI  XMAXSOR  XMINSOR  DSIND  \\\n",
            "0     4.0  1984.0  ...      0.0      0.0       0.0     37.0     30.0      1   \n",
            "1     2.0  1982.0  ...      0.0      0.0       0.0      6.0      0.0      1   \n",
            "2    11.0  1967.0  ...      0.0      0.0       0.0     24.0     18.0      1   \n",
            "3     3.0  1977.0  ...      0.0      0.0       0.0     27.0     21.0      1   \n",
            "4     1.0  1991.0  ...      0.0      0.0       0.0     24.0     18.0      1   \n",
            "\n",
            "   DSJANDC  DSPLEA  DSPSR DSSOR  \n",
            "0        1       1      1     1  \n",
            "1        1       5      1     1  \n",
            "2        1       1      1     1  \n",
            "3        1       1      1     1  \n",
            "4        1       1      1     1  \n",
            "\n",
            "[5 rows x 575 columns]\n",
            "           State   FIPS Value (Dollars)  Rank within US (of 52 states)\n",
            "0    Puerto Rico  72001          24,002                             52\n",
            "1    Mississippi  28000          52,985                             51\n",
            "2  West Virginia  54000          55,217                             50\n",
            "3       Arkansas   5000          56,335                             49\n",
            "4      Louisiana  22000          57,852                             48\n"
          ]
        }
      ],
      "source": [
        "import pandas as pd\n",
        "\n",
        "# Load the datasets\n",
        "file_path1 = r\"/content/HDPulse_data_export.csv\"\n",
        "hdpulse_data = pd.read_csv(file_path1)\n",
        "\n",
        "file_path2 = r\"/content/Sentencing_Data_Imported_DS2002.csv\"\n",
        "sentencing_data = pd.read_csv(file_path2)\n",
        "\n",
        "# Check the first few rows to confirm\n",
        "print(sentencing_data.head())\n",
        "print(hdpulse_data.head())\n"
      ]
    },
    {
      "cell_type": "code",
      "source": [
        "!pip install pandas sqlalchemy\n"
      ],
      "metadata": {
        "colab": {
          "base_uri": "https://localhost:8080/"
        },
        "id": "KRmoenSgLi67",
        "outputId": "fda45488-5335-45f5-b20c-dffa12b98a40"
      },
      "execution_count": 2,
      "outputs": [
        {
          "output_type": "stream",
          "name": "stdout",
          "text": [
            "Requirement already satisfied: pandas in /usr/local/lib/python3.10/dist-packages (2.2.2)\n",
            "Requirement already satisfied: sqlalchemy in /usr/local/lib/python3.10/dist-packages (2.0.36)\n",
            "Requirement already satisfied: numpy>=1.22.4 in /usr/local/lib/python3.10/dist-packages (from pandas) (1.26.4)\n",
            "Requirement already satisfied: python-dateutil>=2.8.2 in /usr/local/lib/python3.10/dist-packages (from pandas) (2.8.2)\n",
            "Requirement already satisfied: pytz>=2020.1 in /usr/local/lib/python3.10/dist-packages (from pandas) (2024.2)\n",
            "Requirement already satisfied: tzdata>=2022.7 in /usr/local/lib/python3.10/dist-packages (from pandas) (2024.2)\n",
            "Requirement already satisfied: typing-extensions>=4.6.0 in /usr/local/lib/python3.10/dist-packages (from sqlalchemy) (4.12.2)\n",
            "Requirement already satisfied: greenlet!=0.4.17 in /usr/local/lib/python3.10/dist-packages (from sqlalchemy) (3.1.1)\n",
            "Requirement already satisfied: six>=1.5 in /usr/local/lib/python3.10/dist-packages (from python-dateutil>=2.8.2->pandas) (1.16.0)\n"
          ]
        }
      ]
    },
    {
      "cell_type": "code",
      "source": [
        "import sqlite3\n",
        "\n",
        "# Connect to SQLite database (or create it if it doesn't exist)\n",
        "conn = sqlite3.connect('etl_pipeline.db')\n",
        "\n",
        "# Store the data into SQL tables\n",
        "sentencing_data.to_sql('SentencingData', conn, if_exists='replace', index=False)\n",
        "hdpulse_data.to_sql('HDPulseData', conn, if_exists='replace', index=False)\n",
        "\n",
        "print(\"Data has been successfully stored in the SQLite database.\")\n"
      ],
      "metadata": {
        "colab": {
          "base_uri": "https://localhost:8080/"
        },
        "id": "XRQL-bemLlG6",
        "outputId": "ded416d3-d3a0-4dce-c453-85876b8f61ff"
      },
      "execution_count": 3,
      "outputs": [
        {
          "output_type": "stream",
          "name": "stdout",
          "text": [
            "Data has been successfully stored in the SQLite database.\n"
          ]
        }
      ]
    },
    {
      "cell_type": "markdown",
      "source": [
        "**ABOVE: Saving data to sqlite. Below: filtering/cleaning**"
      ],
      "metadata": {
        "id": "i1fwtCWIRoqT"
      }
    },
    {
      "cell_type": "markdown",
      "source": [
        "Is the data stored right? (just to check)"
      ],
      "metadata": {
        "id": "vEXeV1V4LhV0"
      }
    },
    {
      "cell_type": "code",
      "source": [
        "# Query the tables to check the data\n",
        "query_sentencing = pd.read_sql('SELECT * FROM SentencingData LIMIT 5', conn)\n",
        "query_hdpulse = pd.read_sql('SELECT * FROM HDPulseData LIMIT 5', conn)\n",
        "\n",
        "print(query_sentencing)\n",
        "print(query_hdpulse)\n"
      ],
      "metadata": {
        "colab": {
          "base_uri": "https://localhost:8080/"
        },
        "id": "bafHD8GMLrjg",
        "outputId": "65a5ffd0-0999-4b96-9991-64552b367618"
      },
      "execution_count": 4,
      "outputs": [
        {
          "output_type": "stream",
          "name": "stdout",
          "text": [
            "   Unnamed: 0  USSCIDN   AGE  AGECAT  CIRCDIST  CITIZEN  CITWHERE  DISTRICT  \\\n",
            "0           1  2492676  34.0     4.0        60      3.0      49.0        67   \n",
            "1           2  2492679  36.0     5.0        89      3.0      49.0        30   \n",
            "2           3  2492680  50.0     6.0        91      1.0     211.0        31   \n",
            "3           4  2492681  41.0     6.0        91      3.0      20.0        31   \n",
            "4           5  2492684  27.0     3.0        91      3.0      20.0        31   \n",
            "\n",
            "   DOBMON   DOBYR  ...  USARMHI  USKIDHI  VULVCTHI  XMAXSOR  XMINSOR  DSIND  \\\n",
            "0     4.0  1984.0  ...      0.0      0.0       0.0     37.0     30.0      1   \n",
            "1     2.0  1982.0  ...      0.0      0.0       0.0      6.0      0.0      1   \n",
            "2    11.0  1967.0  ...      0.0      0.0       0.0     24.0     18.0      1   \n",
            "3     3.0  1977.0  ...      0.0      0.0       0.0     27.0     21.0      1   \n",
            "4     1.0  1991.0  ...      0.0      0.0       0.0     24.0     18.0      1   \n",
            "\n",
            "   DSJANDC  DSPLEA  DSPSR DSSOR  \n",
            "0        1       1      1     1  \n",
            "1        1       5      1     1  \n",
            "2        1       1      1     1  \n",
            "3        1       1      1     1  \n",
            "4        1       1      1     1  \n",
            "\n",
            "[5 rows x 575 columns]\n",
            "           State   FIPS Value (Dollars)  Rank within US (of 52 states)\n",
            "0    Puerto Rico  72001          24,002                             52\n",
            "1    Mississippi  28000          52,985                             51\n",
            "2  West Virginia  54000          55,217                             50\n",
            "3       Arkansas   5000          56,335                             49\n",
            "4      Louisiana  22000          57,852                             48\n"
          ]
        }
      ]
    },
    {
      "cell_type": "markdown",
      "source": [
        "Merging the data"
      ],
      "metadata": {
        "id": "NObd6HUAObtE"
      }
    },
    {
      "cell_type": "code",
      "source": [
        "# Full mapping data for CIRCDIST to STATE_addition\n",
        "district_to_state = [\n",
        "    (1, 'Dist of Columbia'), (2, 'Maine'), (3, 'Massachusetts'), (4, 'New Hampshire'),\n",
        "    (5, 'Puerto Rico'), (6, 'Rhode Island'), (7, 'Connecticut'), (8, 'New York East'),\n",
        "    (9, 'New York North'), (10, 'New York South'), (11, 'New York West'), (12, 'Vermont'),\n",
        "    (13, 'Delaware'), (14, 'New Jersey'), (15, 'Penn. East'), (16, 'Penn. Mid'),\n",
        "    (17, 'Penn. West'), (18, 'Virgin Islands'), (19, 'Maryland'), (20, 'N Carolina East'),\n",
        "    (21, 'N Carolina Mid'), (22, 'N Carolina West'), (23, 'South Carolina'),\n",
        "    (24, 'Virginia East'), (25, 'Virginia West'), (26, 'W Virginia North'),\n",
        "    (27, 'W Virginia South'), (28, 'Louisiana East'), (29, 'Louisiana Middle'),\n",
        "    (30, 'Louisiana West'), (31, 'Miss. North'), (32, 'Miss. South'), (33, 'Texas East'),\n",
        "    (34, 'Texas North'), (35, 'Texas South'), (36, 'Texas West'), (37, 'Kentucky East'),\n",
        "    (38, 'Kentucky West'), (39, 'Michigan East'), (40, 'Michigan West'), (41, 'Ohio North'),\n",
        "    (42, 'Ohio South'), (43, 'Tennessee East'), (44, 'Tennessee Mid'), (45, 'Tennessee West'),\n",
        "    (46, 'Illinois Cent'), (47, 'Illinois North'), (48, 'Illinois South'), (49, 'Indiana North'),\n",
        "    (50, 'Indiana South'), (51, 'Wisconsin East'), (52, 'Wisconsin West'), (53, 'Arkansas East'),\n",
        "    (54, 'Arkansas West'), (55, 'Iowa North'), (56, 'Iowa South'), (57, 'Minnesota'),\n",
        "    (58, 'Missouri East'), (59, 'Missouri West'), (60, 'Nebraska'), (61, 'North Dakota'),\n",
        "    (62, 'South Dakota'), (63, 'Alaska'), (64, 'Arizona'), (65, 'California Cent'),\n",
        "    (66, 'California East'), (67, 'California North'), (68, 'California South'),\n",
        "    (69, 'Guam'), (70, 'Hawaii'), (71, 'Idaho'), (72, 'Montana'), (73, 'Nevada'),\n",
        "    (74, 'N Mariana Island'), (75, 'Oregon'), (76, 'Washington East'), (77, 'Washington West'),\n",
        "    (78, 'Colorado'), (79, 'Kansas'), (80, 'New Mexico'), (81, 'Oklahoma East'),\n",
        "    (82, 'Oklahoma North'), (83, 'Oklahoma West'), (84, 'Utah'), (85, 'Wyoming'),\n",
        "    (86, 'Alabama Mid'), (87, 'Alabama North'), (88, 'Alabama South'), (89, 'Florida Mid'),\n",
        "    (90, 'Florida North'), (91, 'Florida South'), (92, 'Georgia Mid'), (93, 'Georgia North'),\n",
        "    (94, 'Georgia South')\n",
        "]\n",
        "\n",
        "# Full mapping data for STATE_addition to STATE_final\n",
        "region_to_state = [\n",
        "    ('Dist of Columbia', 'District of Columbia'), ('Maine', 'Maine'), ('Massachusetts', 'Massachusetts'),\n",
        "    ('New Hampshire', 'New Hampshire'), ('Puerto Rico', 'Puerto Rico'), ('Rhode Island', 'Rhode Island'),\n",
        "    ('Connecticut', 'Connecticut'), ('New York East', 'New York'), ('New York North', 'New York'),\n",
        "    ('New York South', 'New York'), ('New York West', 'New York'), ('Vermont', 'Vermont'),\n",
        "    ('Delaware', 'Delaware'), ('New Jersey', 'New Jersey'), ('Penn. East', 'Pennsylvania'),\n",
        "    ('Penn. Mid', 'Pennsylvania'), ('Penn. West', 'Pennsylvania'), ('Virgin Islands', 'Virgin Islands'),\n",
        "    ('Maryland', 'Maryland'), ('N Carolina East', 'North Carolina'), ('N Carolina Mid', 'North Carolina'),\n",
        "    ('N Carolina West', 'North Carolina'), ('South Carolina', 'South Carolina'), ('Virginia East', 'Virginia'),\n",
        "    ('Virginia West', 'Virginia'), ('W Virginia North', 'West Virginia'), ('W Virginia South', 'West Virginia'),\n",
        "    ('Louisiana East', 'Louisiana'), ('Louisiana Middle', 'Louisiana'), ('Louisiana West', 'Louisiana'),\n",
        "    ('Miss. North', 'Mississippi'), ('Miss. South', 'Mississippi'), ('Texas East', 'Texas'),\n",
        "    ('Texas North', 'Texas'), ('Texas South', 'Texas'), ('Texas West', 'Texas'),\n",
        "    ('Kentucky East', 'Kentucky'), ('Kentucky West', 'Kentucky'), ('Michigan East', 'Michigan'),\n",
        "    ('Michigan West', 'Michigan'), ('Ohio North', 'Ohio'), ('Ohio South', 'Ohio'),\n",
        "    ('Tennessee East', 'Tennessee'), ('Tennessee Mid', 'Tennessee'), ('Tennessee West', 'Tennessee'),\n",
        "    ('Illinois Cent', 'Illinois'), ('Illinois North', 'Illinois'), ('Illinois South', 'Illinois'),\n",
        "    ('Indiana North', 'Indiana'), ('Indiana South', 'Indiana'), ('Wisconsin East', 'Wisconsin'),\n",
        "    ('Wisconsin West', 'Wisconsin'), ('Arkansas East', 'Arkansas'), ('Arkansas West', 'Arkansas'),\n",
        "    ('Iowa North', 'Iowa'), ('Iowa South', 'Iowa'), ('Minnesota', 'Minnesota'),\n",
        "    ('Missouri East', 'Missouri'), ('Missouri West', 'Missouri'), ('Nebraska', 'Nebraska'),\n",
        "    ('North Dakota', 'North Dakota'), ('South Dakota', 'South Dakota'), ('Alaska', 'Alaska'),\n",
        "    ('Arizona', 'Arizona'), ('California Cent', 'California'), ('California East', 'California'),\n",
        "    ('California North', 'California'), ('California South', 'California'), ('Guam', 'Guam'),\n",
        "    ('Hawaii', 'Hawaii'), ('Idaho', 'Idaho'), ('Montana', 'Montana'), ('Nevada', 'Nevada'),\n",
        "    ('N Mariana Island', 'Northern Mariana Islands'), ('Oregon', 'Oregon'),\n",
        "    ('Washington East', 'Washington'), ('Washington West', 'Washington'),\n",
        "    ('Colorado', 'Colorado'), ('Kansas', 'Kansas'), ('New Mexico', 'New Mexico'),\n",
        "    ('Oklahoma East', 'Oklahoma'), ('Oklahoma North', 'Oklahoma'), ('Oklahoma West', 'Oklahoma'),\n",
        "    ('Utah', 'Utah'), ('Wyoming', 'Wyoming'), ('Alabama Mid', 'Alabama'), ('Alabama North', 'Alabama'),\n",
        "    ('Alabama South', 'Alabama'), ('Florida Mid', 'Florida'), ('Florida North', 'Florida'),\n",
        "    ('Florida South', 'Florida'), ('Georgia Mid', 'Georgia'), ('Georgia North', 'Georgia'),\n",
        "    ('Georgia South', 'Georgia')\n",
        "]\n",
        "\n",
        "# Insert into SQLite\n",
        "cursor = conn.cursor()\n",
        "\n",
        "# Create and populate CIRCDISTMapping table\n",
        "cursor.execute('DROP TABLE IF EXISTS CIRCDISTMapping')\n",
        "cursor.execute('CREATE TABLE CIRCDISTMapping (CIRCDIST INT, STATE_addition TEXT)')\n",
        "cursor.executemany('INSERT INTO CIRCDISTMapping VALUES (?, ?)', district_to_state)\n",
        "\n",
        "# Create and populate RegionToStateMapping table\n",
        "cursor.execute('DROP TABLE IF EXISTS RegionToStateMapping')\n",
        "cursor.execute('CREATE TABLE RegionToStateMapping (STATE_addition TEXT, STATE_final TEXT)')\n",
        "cursor.executemany('INSERT INTO RegionToStateMapping VALUES (?, ?)', region_to_state)\n",
        "\n",
        "conn.commit()\n"
      ],
      "metadata": {
        "id": "FM5yhmrXOcvD"
      },
      "execution_count": 5,
      "outputs": []
    },
    {
      "cell_type": "markdown",
      "source": [
        "Run SQL for ETL steps - filter the data based on columns"
      ],
      "metadata": {
        "id": "wH_ZrcioPLvD"
      }
    },
    {
      "cell_type": "code",
      "source": [
        "# Filter the data based on XCRHISSR, OFFGUIDE, and COMBDRG2\n",
        "cursor.execute('''\n",
        "    CREATE TABLE FilteredSentencingData AS\n",
        "    SELECT *\n",
        "    FROM SentencingData\n",
        "    WHERE XCRHISSR = 6\n",
        "      AND OFFGUIDE = 10\n",
        "      AND COMBDRG2 IN (1, 2)\n",
        "''')\n"
      ],
      "metadata": {
        "colab": {
          "base_uri": "https://localhost:8080/"
        },
        "id": "gfNyy_9sPOgM",
        "outputId": "12699101-8aac-407b-b7f5-fda0dafc393f"
      },
      "execution_count": 6,
      "outputs": [
        {
          "output_type": "execute_result",
          "data": {
            "text/plain": [
              "<sqlite3.Cursor at 0x7d38d85a3940>"
            ]
          },
          "metadata": {},
          "execution_count": 6
        }
      ]
    },
    {
      "cell_type": "markdown",
      "source": [
        "Mapping CIRCDIST TO STATE_addition"
      ],
      "metadata": {
        "id": "P0RIXWdLPZVW"
      }
    },
    {
      "cell_type": "code",
      "source": [
        "# Map CIRCDIST to STATE_addition\n",
        "cursor.execute('''\n",
        "    CREATE TABLE SentencingWithStateAddition AS\n",
        "    SELECT f.*, c.STATE_addition\n",
        "    FROM FilteredSentencingData f\n",
        "    LEFT JOIN CIRCDISTMapping c\n",
        "    ON f.CIRCDIST = c.CIRCDIST\n",
        "''')\n"
      ],
      "metadata": {
        "colab": {
          "base_uri": "https://localhost:8080/"
        },
        "id": "Fm_17Wk_PdCl",
        "outputId": "c43a3659-8f48-4521-af39-aa46ef46e56b"
      },
      "execution_count": 7,
      "outputs": [
        {
          "output_type": "execute_result",
          "data": {
            "text/plain": [
              "<sqlite3.Cursor at 0x7d38d85a3940>"
            ]
          },
          "metadata": {},
          "execution_count": 7
        }
      ]
    },
    {
      "cell_type": "markdown",
      "source": [
        "Map STATE_Addition to STATE_final"
      ],
      "metadata": {
        "id": "TLpRN4zGPfP0"
      }
    },
    {
      "cell_type": "code",
      "source": [
        "# Map STATE_addition to STATE_final\n",
        "cursor.execute('''\n",
        "    CREATE TABLE SentencingWithStateFinal AS\n",
        "    SELECT s.*, r.STATE_final\n",
        "    FROM SentencingWithStateAddition s\n",
        "    LEFT JOIN RegionToStateMapping r\n",
        "    ON s.STATE_addition = r.STATE_addition\n",
        "''')\n"
      ],
      "metadata": {
        "colab": {
          "base_uri": "https://localhost:8080/"
        },
        "id": "qiaSK_J7PiJI",
        "outputId": "bd12f088-3e29-4f36-ae10-6b326b2b530c"
      },
      "execution_count": 8,
      "outputs": [
        {
          "output_type": "execute_result",
          "data": {
            "text/plain": [
              "<sqlite3.Cursor at 0x7d38d85a3940>"
            ]
          },
          "metadata": {},
          "execution_count": 8
        }
      ]
    },
    {
      "cell_type": "markdown",
      "source": [
        "Merging with HDPulseData"
      ],
      "metadata": {
        "id": "iToT-DopPi8k"
      }
    },
    {
      "cell_type": "code",
      "source": [
        "# Merge with HDPulseData on STATE_final\n",
        "cursor.execute('''\n",
        "    CREATE TABLE MergedData AS\n",
        "    SELECT s.*, h.*\n",
        "    FROM SentencingWithStateFinal s\n",
        "    LEFT JOIN HDPulseData h\n",
        "    ON s.STATE_final = h.State\n",
        "''')\n"
      ],
      "metadata": {
        "colab": {
          "base_uri": "https://localhost:8080/"
        },
        "id": "Ht3Eo6IIPk5a",
        "outputId": "494bc068-e167-4df9-be5a-58752770e5ac"
      },
      "execution_count": 9,
      "outputs": [
        {
          "output_type": "execute_result",
          "data": {
            "text/plain": [
              "<sqlite3.Cursor at 0x7d38d85a3940>"
            ]
          },
          "metadata": {},
          "execution_count": 9
        }
      ]
    },
    {
      "cell_type": "markdown",
      "source": [
        "**Verifying the result**"
      ],
      "metadata": {
        "id": "wpst6026PpXN"
      }
    },
    {
      "cell_type": "code",
      "source": [
        "# Load the merged data into a pandas DataFrame\n",
        "merged_data = pd.read_sql('SELECT * FROM MergedData', conn)\n",
        "print(merged_data.head())\n"
      ],
      "metadata": {
        "colab": {
          "base_uri": "https://localhost:8080/"
        },
        "id": "A4hE8HiMPo7L",
        "outputId": "e2200a57-d113-4fdd-e54c-9a0cc922267f"
      },
      "execution_count": 10,
      "outputs": [
        {
          "output_type": "stream",
          "name": "stdout",
          "text": [
            "   Unnamed: 0  USSCIDN   AGE  AGECAT  CIRCDIST  CITIZEN  CITWHERE  DISTRICT  \\\n",
            "0          84  2492927  39.0     5.0        43      1.0     211.0        49   \n",
            "1         192  2493242  39.0     5.0        54      1.0     211.0        61   \n",
            "2         458  2493594  26.0     3.0        52      1.0     211.0        58   \n",
            "3         507  2493644  35.0     4.0        28      1.0     211.0        35   \n",
            "4         588  2493871  37.0     5.0        15      1.0     211.0        13   \n",
            "\n",
            "   DOBMON   DOBYR  ...  DSJANDC  DSPLEA  DSPSR  DSSOR  STATE_addition  \\\n",
            "0     4.0  1979.0  ...        1       1      1      1  Tennessee East   \n",
            "1     8.0  1979.0  ...        1       1      1      1   Arkansas West   \n",
            "2    12.0  1991.0  ...        1       1      1      1  Wisconsin West   \n",
            "3     7.0  1983.0  ...        1       5      1      1  Louisiana East   \n",
            "4     8.0  1981.0  ...        1       1      1      1      Penn. East   \n",
            "\n",
            "    STATE_final         State   FIPS  Value (Dollars)  \\\n",
            "0     Tennessee     Tennessee  47000           64,035   \n",
            "1      Arkansas      Arkansas   5000           56,335   \n",
            "2     Wisconsin     Wisconsin  55000           72,458   \n",
            "3     Louisiana     Louisiana  22000           57,852   \n",
            "4  Pennsylvania  Pennsylvania  42000           73,170   \n",
            "\n",
            "  Rank within US (of 52 states)  \n",
            "0                            42  \n",
            "1                            49  \n",
            "2                            26  \n",
            "3                            48  \n",
            "4                            22  \n",
            "\n",
            "[5 rows x 581 columns]\n"
          ]
        }
      ]
    },
    {
      "cell_type": "markdown",
      "source": [
        "If the data needs to be saved locally"
      ],
      "metadata": {
        "id": "tjifLhB9OFrx"
      }
    },
    {
      "cell_type": "code",
      "source": [
        "from google.colab import files\n",
        "\n",
        "# Save and download the SQLite file\n",
        "conn.close()\n",
        "files.download('etl_pipeline.db')\n"
      ],
      "metadata": {
        "id": "sYR_Z2a8OFPN"
      },
      "execution_count": null,
      "outputs": []
    },
    {
      "cell_type": "markdown",
      "source": [
        "**TO DO**"
      ],
      "metadata": {
        "id": "R7kVNoyASRlF"
      }
    },
    {
      "cell_type": "markdown",
      "source": [
        "\n",
        "\n",
        "*   Use mysql instead of sqlite\n",
        "*   \"Ensure the ETL script can handle updates to data sources and is designed for reproducibility\"\n",
        "* Need to add comment\n",
        "\n",
        "\n",
        "\n"
      ],
      "metadata": {
        "id": "uK5R-v16STwj"
      }
    }
  ]
}